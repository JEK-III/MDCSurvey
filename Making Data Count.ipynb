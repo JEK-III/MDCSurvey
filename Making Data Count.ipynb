{
 "metadata": {
  "name": "",
  "signature": "sha256:a3042708de215ea2ca5c5f5b6255f5115c4c4f300c5fd225c7d8250c2bf9416b"
 },
 "nbformat": 3,
 "nbformat_minor": 0,
 "worksheets": [
  {
   "cells": [
    {
     "cell_type": "code",
     "collapsed": false,
     "input": [],
     "language": "python",
     "metadata": {},
     "outputs": []
    }
   ],
   "metadata": {}
  }
 ]
}